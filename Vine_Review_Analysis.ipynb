{
  "nbformat": 4,
  "nbformat_minor": 0,
  "metadata": {
    "colab": {
      "name": "Vine_Review_Analysis.ipynb",
      "provenance": [],
      "authorship_tag": "ABX9TyP1xPAPlpU0VO8KE3TXE0YS",
      "include_colab_link": true
    },
    "kernelspec": {
      "name": "python3",
      "display_name": "Python 3"
    },
    "language_info": {
      "name": "python"
    }
  },
  "cells": [
    {
      "cell_type": "markdown",
      "metadata": {
        "id": "view-in-github",
        "colab_type": "text"
      },
      "source": [
        "<a href=\"https://colab.research.google.com/github/hira-ayub/Amazon_Vine_Analysis/blob/main/Vine_Review_Analysis.ipynb\" target=\"_parent\"><img src=\"https://colab.research.google.com/assets/colab-badge.svg\" alt=\"Open In Colab\"/></a>"
      ]
    },
    {
      "cell_type": "code",
      "metadata": {
        "colab": {
          "base_uri": "https://localhost:8080/"
        },
        "id": "GMNcRYtuMyeU",
        "outputId": "0d5e58ea-7c82-4576-9301-f347dfe57f5e"
      },
      "source": [
        "import os\n",
        "import pandas as pd\n",
        "# Find the latest version of spark 3.0  from http://www-us.apache.org/dist/spark/ and enter as the spark version\n",
        "# For example:\n",
        "# spark_version = 'spark-3.0.2'\n",
        "spark_version = 'spark-3.1.2'\n",
        "os.environ['SPARK_VERSION']=spark_version\n",
        "# Install Spark and Java\n",
        "!apt-get update\n",
        "!apt-get install openjdk-11-jdk-headless -qq > /dev/null\n",
        "!wget -q http://www-us.apache.org/dist/spark/$SPARK_VERSION/$SPARK_VERSION-bin-hadoop2.7.tgz\n",
        "!tar xf $SPARK_VERSION-bin-hadoop2.7.tgz\n",
        "!pip install -q findspark\n",
        "# Set Environment Variables\n",
        "import os\n",
        "os.environ[\"JAVA_HOME\"] = \"/usr/lib/jvm/java-11-openjdk-amd64\"\n",
        "os.environ[\"SPARK_HOME\"] = f\"/content/{spark_version}-bin-hadoop2.7\"\n",
        "# Start a SparkSession\n",
        "import findspark\n",
        "findspark.init()"
      ],
      "execution_count": 1,
      "outputs": [
        {
          "output_type": "stream",
          "text": [
            "\r0% [Working]\r            \rHit:1 http://ppa.launchpad.net/c2d4u.team/c2d4u4.0+/ubuntu bionic InRelease\n",
            "\r0% [Connecting to archive.ubuntu.com (91.189.88.142)] [Connecting to security.u\r                                                                               \rHit:2 http://archive.ubuntu.com/ubuntu bionic InRelease\n",
            "\r                                                                               \rHit:3 http://ppa.launchpad.net/cran/libgit2/ubuntu bionic InRelease\n",
            "\r0% [Waiting for headers] [Connecting to security.ubuntu.com (91.189.91.39)] [Co\r                                                                               \rGet:4 http://archive.ubuntu.com/ubuntu bionic-updates InRelease [88.7 kB]\n",
            "\r0% [4 InRelease 14.2 kB/88.7 kB 16%] [Connecting to security.ubuntu.com (91.189\r0% [1 InRelease gpgv 15.9 kB] [4 InRelease 14.2 kB/88.7 kB 16%] [Connecting to \r                                                                               \rHit:5 https://cloud.r-project.org/bin/linux/ubuntu bionic-cran40/ InRelease\n",
            "\r0% [1 InRelease gpgv 15.9 kB] [4 InRelease 27.2 kB/88.7 kB 31%] [Connecting to \r                                                                               \rHit:6 http://ppa.launchpad.net/deadsnakes/ppa/ubuntu bionic InRelease\n",
            "\r0% [1 InRelease gpgv 15.9 kB] [4 InRelease 44.6 kB/88.7 kB 50%] [Connecting to \r0% [1 InRelease gpgv 15.9 kB] [Waiting for headers] [Connecting to security.ubu\r                                                                               \rGet:7 http://archive.ubuntu.com/ubuntu bionic-backports InRelease [74.6 kB]\n",
            "Hit:8 http://ppa.launchpad.net/graphics-drivers/ppa/ubuntu bionic InRelease\n",
            "Get:9 http://security.ubuntu.com/ubuntu bionic-security InRelease [88.7 kB]\n",
            "Ign:10 https://developer.download.nvidia.com/compute/cuda/repos/ubuntu1804/x86_64  InRelease\n",
            "Ign:11 https://developer.download.nvidia.com/compute/machine-learning/repos/ubuntu1804/x86_64  InRelease\n",
            "Hit:12 https://developer.download.nvidia.com/compute/cuda/repos/ubuntu1804/x86_64  Release\n",
            "Hit:13 https://developer.download.nvidia.com/compute/machine-learning/repos/ubuntu1804/x86_64  Release\n",
            "Fetched 252 kB in 2s (146 kB/s)\n",
            "Reading package lists... Done\n"
          ],
          "name": "stdout"
        }
      ]
    },
    {
      "cell_type": "code",
      "metadata": {
        "id": "Ahs7vYQhNISe"
      },
      "source": [
        "from pyspark.sql import SparkSession\n",
        "spark = SparkSession.builder.appName(\"BigData-Challenge\").getOrCreate()"
      ],
      "execution_count": 2,
      "outputs": []
    },
    {
      "cell_type": "code",
      "metadata": {
        "colab": {
          "base_uri": "https://localhost:8080/"
        },
        "id": "iJt9eLl4NNN2",
        "outputId": "d5970d47-8228-4f6a-c01a-c24e863a715e"
      },
      "source": [
        "from pyspark import SparkFiles\n",
        "url = \"https://s3.amazonaws.com/amazon-reviews-pds/tsv/amazon_reviews_us_Outdoors_v1_00.tsv.gz\"\n",
        "spark.sparkContext.addFile(url)\n",
        "df = spark.read.option(\"encoding\", \"UTF-8\").csv(SparkFiles.get(\"amazon_reviews_us_Outdoors_v1_00.tsv.gz\"), sep=\"\\t\", header=True, inferSchema=True)\n",
        "df.show()\n",
        "df.count()"
      ],
      "execution_count": 3,
      "outputs": [
        {
          "output_type": "stream",
          "text": [
            "+-----------+-----------+--------------+----------+--------------+--------------------+----------------+-----------+-------------+-----------+----+-----------------+--------------------+--------------------+-----------+\n",
            "|marketplace|customer_id|     review_id|product_id|product_parent|       product_title|product_category|star_rating|helpful_votes|total_votes|vine|verified_purchase|     review_headline|         review_body|review_date|\n",
            "+-----------+-----------+--------------+----------+--------------+--------------------+----------------+-----------+-------------+-----------+----+-----------------+--------------------+--------------------+-----------+\n",
            "|         US|   18446823|R35T75OLUGHL5C|B000NV6H94|     110804376|Stearns Youth Boa...|        Outdoors|          4|            0|          0|   N|                Y|          Four Stars|          GOOD VALUE| 2015-08-31|\n",
            "|         US|   13724367|R2BV735O46BN33|B000IN0W3Y|     624096774|Primal Wear Men's...|        Outdoors|          5|            0|          0|   N|                Y|          Five Stars|  Excellent quality.| 2015-08-31|\n",
            "|         US|   51001958|R2NBEUGPQQGXP1|B008RBJXFM|     278970944|Osprey Hydraulics...|        Outdoors|          4|            0|          0|   N|                Y|Only Flaw Is The Cap|3rd season using ...| 2015-08-31|\n",
            "|         US|   32866903|R17LLAOJ8ITK0S|B00FK8WUQY|     312877650|CamelBak eddy .75...|        Outdoors|          3|            1|          1|   N|                Y|Poor design leads...|poor construction...| 2015-08-31|\n",
            "|         US|   30907790|R39PEQBT5ISEF4|B00EZA3VW0|     305567912|Children Black Re...|        Outdoors|          1|            0|          0|   N|                Y|Very bad quality,...|Very bad quality,...| 2015-08-31|\n",
            "|         US|   20232229|R3GNM3SU9VHJFT|B006JA8WEG|     842306035|Ibera Bicycle Tri...|        Outdoors|          4|            1|          1|   N|                Y|Nice bag. Should ...|Nice bag. Should ...| 2015-08-31|\n",
            "|         US|   17698862| R2Y81OP0EK467|B002PWFSEO|     451480122|Therm-a-Rest Comp...|        Outdoors|          5|            0|          0|   N|                Y|Very comfortable ...|Gave this to my s...| 2015-08-31|\n",
            "|         US|   38486114|R2LFGSI6HAYH5F|B002DZGKHW|     124386306|Sawyer Products P...|        Outdoors|          5|            1|          1|   N|                Y| Worked like a charm|Went on vacation ...| 2015-08-31|\n",
            "|         US|   26319572|R297G6ED1IQO7W|B00ABA08F6|     991442421|Zippo Hand Warmer...|        Outdoors|          5|            1|          1|   N|                Y|Great item. Gets ...|Great item. Gets ...| 2015-08-31|\n",
            "|         US|   27152337| RE27RFC6101N6|B003Z8WIHC|     886483892|Camp Chef Dutch O...|        Outdoors|          5|            0|          0|   N|                Y|Great value for t...|I am so glad I bo...| 2015-08-31|\n",
            "|         US|   12516845|R3BPDME6E94W8Z|B007CP6UK0|     150224054|3CERA Portable Wi...|        Outdoors|          5|            0|          0|   N|                Y|          Five Stars|        good to have| 2015-08-31|\n",
            "|         US|    3225242|R2P08O1RILUOX3|B003V3U9JK|     343847969|Texsport King Kot...|        Outdoors|          3|            0|          0|   N|                Y|Cot set up inconv...|VERY difficult to...| 2015-08-31|\n",
            "|         US|     961839|R37CVAB03PTDVI|B00Y846HN8|     858088629|Wallygadgets 2 Wh...|        Outdoors|          5|            0|          1|   N|                Y|          Five Stars|Thanks excellent ...| 2015-08-31|\n",
            "|         US|   47796452| RAWNWOGXPCPMD|B00IYQ84VY|     474493517|RainStoppers 34-I...|        Outdoors|          5|            0|          0|   N|                Y|          Five Stars|This umbrella is ...| 2015-08-31|\n",
            "|         US|   32004835| R5DYGP6ASX77M|B002MYCKLY|     920014456|Alpha Deluxe Port...|        Outdoors|          5|            0|          0|   N|                Y|          Five Stars|Love it !! I even...| 2015-08-31|\n",
            "|         US|   23972939|R1O0SAOOGF2KG7|B00EZV69JG|     128489321|Speedfil Z4 BTA B...|        Outdoors|          4|            0|          0|   N|                Y|        Good enough.|This is a fine mo...| 2015-08-31|\n",
            "|         US|   40889047|R35NJUT0U3MU3V|B00AWOT3T8|     571303876|O'Brien Kids Plat...|        Outdoors|          5|            0|          0|   N|                Y| Got Up on First Try|We just bought th...| 2015-08-31|\n",
            "|         US|   11244387|R242C08MF9D1AH|B0000AXTID|     739769424|Kwik-Tek F-5R Pla...|        Outdoors|          5|            0|          0|   N|                Y|They go over an a...|I have these on m...| 2015-08-31|\n",
            "|         US|   20121211| R3RYG8TJTO4E2|B00IFHFJXI|     984009972|Ivation Portable ...|        Outdoors|          5|            0|          0|   N|                Y|Greatest Item I b...|This is the best ...| 2015-08-31|\n",
            "|         US|   25657249|R3IKH1DNY0CP9F|B00KFILTWU|     405521681|GreenInsync Repla...|        Outdoors|          2|            0|          0|   N|                Y|I received this p...|I received this p...| 2015-08-31|\n",
            "+-----------+-----------+--------------+----------+--------------+--------------------+----------------+-----------+-------------+-----------+----+-----------------+--------------------+--------------------+-----------+\n",
            "only showing top 20 rows\n",
            "\n"
          ],
          "name": "stdout"
        },
        {
          "output_type": "execute_result",
          "data": {
            "text/plain": [
              "2302401"
            ]
          },
          "metadata": {
            "tags": []
          },
          "execution_count": 3
        }
      ]
    },
    {
      "cell_type": "code",
      "metadata": {
        "colab": {
          "base_uri": "https://localhost:8080/"
        },
        "id": "aPuCV4UfEYeT",
        "outputId": "bb29a93c-02e1-446a-83dc-9e0163300d32"
      },
      "source": [
        "# Clean Data into vine_table DataFrame\n",
        "vine_df = df.select([\"review_id\", \"product_id\", \"star_rating\", \"helpful_votes\", \"total_votes\", \"vine\", \"verified_purchase\"])\n",
        "vine_df.show()\n",
        "vine_df.count()"
      ],
      "execution_count": 4,
      "outputs": [
        {
          "output_type": "stream",
          "text": [
            "+--------------+----------+-----------+-------------+-----------+----+-----------------+\n",
            "|     review_id|product_id|star_rating|helpful_votes|total_votes|vine|verified_purchase|\n",
            "+--------------+----------+-----------+-------------+-----------+----+-----------------+\n",
            "|R35T75OLUGHL5C|B000NV6H94|          4|            0|          0|   N|                Y|\n",
            "|R2BV735O46BN33|B000IN0W3Y|          5|            0|          0|   N|                Y|\n",
            "|R2NBEUGPQQGXP1|B008RBJXFM|          4|            0|          0|   N|                Y|\n",
            "|R17LLAOJ8ITK0S|B00FK8WUQY|          3|            1|          1|   N|                Y|\n",
            "|R39PEQBT5ISEF4|B00EZA3VW0|          1|            0|          0|   N|                Y|\n",
            "|R3GNM3SU9VHJFT|B006JA8WEG|          4|            1|          1|   N|                Y|\n",
            "| R2Y81OP0EK467|B002PWFSEO|          5|            0|          0|   N|                Y|\n",
            "|R2LFGSI6HAYH5F|B002DZGKHW|          5|            1|          1|   N|                Y|\n",
            "|R297G6ED1IQO7W|B00ABA08F6|          5|            1|          1|   N|                Y|\n",
            "| RE27RFC6101N6|B003Z8WIHC|          5|            0|          0|   N|                Y|\n",
            "|R3BPDME6E94W8Z|B007CP6UK0|          5|            0|          0|   N|                Y|\n",
            "|R2P08O1RILUOX3|B003V3U9JK|          3|            0|          0|   N|                Y|\n",
            "|R37CVAB03PTDVI|B00Y846HN8|          5|            0|          1|   N|                Y|\n",
            "| RAWNWOGXPCPMD|B00IYQ84VY|          5|            0|          0|   N|                Y|\n",
            "| R5DYGP6ASX77M|B002MYCKLY|          5|            0|          0|   N|                Y|\n",
            "|R1O0SAOOGF2KG7|B00EZV69JG|          4|            0|          0|   N|                Y|\n",
            "|R35NJUT0U3MU3V|B00AWOT3T8|          5|            0|          0|   N|                Y|\n",
            "|R242C08MF9D1AH|B0000AXTID|          5|            0|          0|   N|                Y|\n",
            "| R3RYG8TJTO4E2|B00IFHFJXI|          5|            0|          0|   N|                Y|\n",
            "|R3IKH1DNY0CP9F|B00KFILTWU|          2|            0|          0|   N|                Y|\n",
            "+--------------+----------+-----------+-------------+-----------+----+-----------------+\n",
            "only showing top 20 rows\n",
            "\n"
          ],
          "name": "stdout"
        },
        {
          "output_type": "execute_result",
          "data": {
            "text/plain": [
              "2302401"
            ]
          },
          "metadata": {
            "tags": []
          },
          "execution_count": 4
        }
      ]
    },
    {
      "cell_type": "code",
      "metadata": {
        "colab": {
          "base_uri": "https://localhost:8080/"
        },
        "id": "aUBOz1k1NmQV",
        "outputId": "c81c8719-eec4-44f8-efa8-ae23fa73594f"
      },
      "source": [
        "#Create dataframe of items with total votes over 20\n",
        "voteover_20 = vine_df.filter(\"total_votes>=20\")\n",
        "voteover_20.show()\n",
        "voteover_20.count()"
      ],
      "execution_count": 5,
      "outputs": [
        {
          "output_type": "stream",
          "text": [
            "+--------------+----------+-----------+-------------+-----------+----+-----------------+\n",
            "|     review_id|product_id|star_rating|helpful_votes|total_votes|vine|verified_purchase|\n",
            "+--------------+----------+-----------+-------------+-----------+----+-----------------+\n",
            "|R2FP3U4NHNFNL2|B00YPISPNC|          5|           25|         29|   N|                Y|\n",
            "|R1UUK1977O38MU|B00T8NEI3A|          5|           31|         31|   N|                Y|\n",
            "| RXO216LWUDV6O|B00FLTZ2ZS|          3|           29|         31|   N|                Y|\n",
            "|R3NMJF7EBMM19V|B007SZ4XJ4|          3|           26|         27|   N|                Y|\n",
            "|R2ZY0ZBDUO0XUY|B00NAINBM8|          3|           20|         21|   N|                Y|\n",
            "| RBDVHX7PMQEKM|B00OAUPSSA|          5|           35|         39|   N|                Y|\n",
            "| RGO3KSDXYWTGU|B00V65XX0C|          4|           26|         26|   N|                Y|\n",
            "|R2O4P39D0ALCQK|B00NPLSZF8|          2|           14|         43|   N|                Y|\n",
            "|R1E1PQGHWGO3Q1|B007ZYIFQ0|          1|           89|         96|   N|                Y|\n",
            "|R1XOXXUVYZEDJB|B0087NHUWS|          5|           22|         22|   N|                Y|\n",
            "| R7SHITUU5UG9U|B00NFCFNUM|          5|           27|         27|   N|                Y|\n",
            "|R230TLHU91M5Y3|B010X5715I|          4|           21|         21|   N|                Y|\n",
            "| RHR5MKO23K9TU|B00CMAG6BI|          5|           26|         30|   N|                Y|\n",
            "|R1HGK3TCY161D7|B011OLKB3O|          5|           52|         55|   N|                N|\n",
            "|R340QYAVNZZHJA|B005LURMSW|          4|           25|         25|   N|                N|\n",
            "|R2F1UVQK0JL4QH|B00AHSRM1A|          3|           20|         20|   N|                Y|\n",
            "|R1N21UY546VWMN|B00DZLVDAC|          2|           48|         50|   N|                Y|\n",
            "|R1E4L344EK0ZOT|B012BRMTHG|          5|           20|         26|   N|                N|\n",
            "|R282QUZDDJW3ON|B000NVBH8A|          4|           45|         49|   N|                Y|\n",
            "|R3H5T3T7QY3ZL2|B00Y846HN8|          5|          247|        263|   N|                Y|\n",
            "+--------------+----------+-----------+-------------+-----------+----+-----------------+\n",
            "only showing top 20 rows\n",
            "\n"
          ],
          "name": "stdout"
        },
        {
          "output_type": "execute_result",
          "data": {
            "text/plain": [
              "43574"
            ]
          },
          "metadata": {
            "tags": []
          },
          "execution_count": 5
        }
      ]
    },
    {
      "cell_type": "code",
      "metadata": {
        "colab": {
          "base_uri": "https://localhost:8080/"
        },
        "id": "PTAIMrcqNugM",
        "outputId": "b8b34be4-41df-4a74-de6c-2ab63c3ed89b"
      },
      "source": [
        "# Create a helpful votes dataframe\n",
        "helpful_vote = voteover_20.filter(voteover_20['helpful_votes']/voteover_20['total_votes']>=.5)\n",
        "helpful_vote.show()\n",
        "helpful_vote.count()"
      ],
      "execution_count": 6,
      "outputs": [
        {
          "output_type": "stream",
          "text": [
            "+--------------+----------+-----------+-------------+-----------+----+-----------------+\n",
            "|     review_id|product_id|star_rating|helpful_votes|total_votes|vine|verified_purchase|\n",
            "+--------------+----------+-----------+-------------+-----------+----+-----------------+\n",
            "|R2FP3U4NHNFNL2|B00YPISPNC|          5|           25|         29|   N|                Y|\n",
            "|R1UUK1977O38MU|B00T8NEI3A|          5|           31|         31|   N|                Y|\n",
            "| RXO216LWUDV6O|B00FLTZ2ZS|          3|           29|         31|   N|                Y|\n",
            "|R3NMJF7EBMM19V|B007SZ4XJ4|          3|           26|         27|   N|                Y|\n",
            "|R2ZY0ZBDUO0XUY|B00NAINBM8|          3|           20|         21|   N|                Y|\n",
            "| RBDVHX7PMQEKM|B00OAUPSSA|          5|           35|         39|   N|                Y|\n",
            "| RGO3KSDXYWTGU|B00V65XX0C|          4|           26|         26|   N|                Y|\n",
            "|R1E1PQGHWGO3Q1|B007ZYIFQ0|          1|           89|         96|   N|                Y|\n",
            "|R1XOXXUVYZEDJB|B0087NHUWS|          5|           22|         22|   N|                Y|\n",
            "| R7SHITUU5UG9U|B00NFCFNUM|          5|           27|         27|   N|                Y|\n",
            "|R230TLHU91M5Y3|B010X5715I|          4|           21|         21|   N|                Y|\n",
            "| RHR5MKO23K9TU|B00CMAG6BI|          5|           26|         30|   N|                Y|\n",
            "|R1HGK3TCY161D7|B011OLKB3O|          5|           52|         55|   N|                N|\n",
            "|R340QYAVNZZHJA|B005LURMSW|          4|           25|         25|   N|                N|\n",
            "|R2F1UVQK0JL4QH|B00AHSRM1A|          3|           20|         20|   N|                Y|\n",
            "|R1N21UY546VWMN|B00DZLVDAC|          2|           48|         50|   N|                Y|\n",
            "|R1E4L344EK0ZOT|B012BRMTHG|          5|           20|         26|   N|                N|\n",
            "|R282QUZDDJW3ON|B000NVBH8A|          4|           45|         49|   N|                Y|\n",
            "|R3H5T3T7QY3ZL2|B00Y846HN8|          5|          247|        263|   N|                Y|\n",
            "|R3W1A1P95IIGHX|B00Z8V5OV6|          5|           23|         25|   N|                N|\n",
            "+--------------+----------+-----------+-------------+-----------+----+-----------------+\n",
            "only showing top 20 rows\n",
            "\n"
          ],
          "name": "stdout"
        },
        {
          "output_type": "execute_result",
          "data": {
            "text/plain": [
              "39976"
            ]
          },
          "metadata": {
            "tags": []
          },
          "execution_count": 6
        }
      ]
    },
    {
      "cell_type": "code",
      "metadata": {
        "colab": {
          "base_uri": "https://localhost:8080/"
        },
        "id": "i5h9wEqHPHD1",
        "outputId": "e56e6ad1-c791-4161-cc0b-dda684e6bd89"
      },
      "source": [
        "# Create a dataframe of paid reviews\n",
        "paid_reviews = helpful_vote.filter(helpful_vote[\"vine\"] == \"Y\")\n",
        "paid_reviews.show()"
      ],
      "execution_count": 7,
      "outputs": [
        {
          "output_type": "stream",
          "text": [
            "+--------------+----------+-----------+-------------+-----------+----+-----------------+\n",
            "|     review_id|product_id|star_rating|helpful_votes|total_votes|vine|verified_purchase|\n",
            "+--------------+----------+-----------+-------------+-----------+----+-----------------+\n",
            "|R3KPC0NBUDASX3|B00R8KC02Q|          5|           25|         25|   Y|                N|\n",
            "|R119P2A95GGXX4|B00NOYKVSK|          5|           26|         28|   Y|                N|\n",
            "|R1HKIRME8AJ89Z|B00GK4LUXQ|          5|           79|         82|   Y|                N|\n",
            "|R3FY3GMBGOBR22|B00NFCFDRA|          5|           12|         20|   Y|                N|\n",
            "|R15KH3FBSVYGBU|B00NFCFIR0|          5|           32|         37|   Y|                N|\n",
            "|R22XZEQLVLWW49|B00NFCFAYQ|          5|           28|         33|   Y|                N|\n",
            "|R2OIQYVAL9D63R|B00NFCFIR0|          4|           59|         65|   Y|                N|\n",
            "|R1W3KCDHM6BMZT|B00G6KURDI|          4|           37|         38|   Y|                N|\n",
            "|R3KDMPS96IJ10R|B00R8K9VZA|          2|           15|         21|   Y|                N|\n",
            "|R1XWEI58A7VKLB|B00R6SBMPG|          5|          123|        128|   Y|                N|\n",
            "|R1CJWM6CMWKSA1|B00M542ILI|          4|           31|         33|   Y|                N|\n",
            "|R39I3FUDBKZM3Y|B00R6SBMPG|          5|           34|         38|   Y|                N|\n",
            "|R32LU0KSL7QWSF|B00R6SBML0|          5|           35|         37|   Y|                N|\n",
            "|R2LGDXO3MG2WQW|B00U4HDLGO|          5|           37|         41|   Y|                N|\n",
            "|R16AVI2NTYWLKI|B00R8K9VZA|          5|           31|         33|   Y|                N|\n",
            "|R12K0ITIV6AYM3|B00FZLIK1U|          5|           34|         34|   Y|                N|\n",
            "| R9ILZLNNK93CO|B00FOUMCD4|          5|           38|         39|   Y|                N|\n",
            "|R1CS8VSI1KSR1P|B00KNTHH2C|          5|           21|         22|   Y|                N|\n",
            "|R186TCIH8TEGPY|B00SISWNZG|          5|           40|         43|   Y|                N|\n",
            "| R3GBQRR2GY4SP|B00SISWXVK|          4|          119|        125|   Y|                N|\n",
            "+--------------+----------+-----------+-------------+-----------+----+-----------------+\n",
            "only showing top 20 rows\n",
            "\n"
          ],
          "name": "stdout"
        }
      ]
    },
    {
      "cell_type": "code",
      "metadata": {
        "colab": {
          "base_uri": "https://localhost:8080/"
        },
        "id": "UGuF2sC-Pb8j",
        "outputId": "1d8fd7d4-0964-443d-af0a-aa50840d59e9"
      },
      "source": [
        "# Create a dataframe of unpaid reviews\n",
        "unpaid_reviews = helpful_vote.filter(helpful_vote[\"vine\"] == \"N\")\n",
        "unpaid_reviews.show()"
      ],
      "execution_count": 8,
      "outputs": [
        {
          "output_type": "stream",
          "text": [
            "+--------------+----------+-----------+-------------+-----------+----+-----------------+\n",
            "|     review_id|product_id|star_rating|helpful_votes|total_votes|vine|verified_purchase|\n",
            "+--------------+----------+-----------+-------------+-----------+----+-----------------+\n",
            "|R2FP3U4NHNFNL2|B00YPISPNC|          5|           25|         29|   N|                Y|\n",
            "|R1UUK1977O38MU|B00T8NEI3A|          5|           31|         31|   N|                Y|\n",
            "| RXO216LWUDV6O|B00FLTZ2ZS|          3|           29|         31|   N|                Y|\n",
            "|R3NMJF7EBMM19V|B007SZ4XJ4|          3|           26|         27|   N|                Y|\n",
            "|R2ZY0ZBDUO0XUY|B00NAINBM8|          3|           20|         21|   N|                Y|\n",
            "| RBDVHX7PMQEKM|B00OAUPSSA|          5|           35|         39|   N|                Y|\n",
            "| RGO3KSDXYWTGU|B00V65XX0C|          4|           26|         26|   N|                Y|\n",
            "|R1E1PQGHWGO3Q1|B007ZYIFQ0|          1|           89|         96|   N|                Y|\n",
            "|R1XOXXUVYZEDJB|B0087NHUWS|          5|           22|         22|   N|                Y|\n",
            "| R7SHITUU5UG9U|B00NFCFNUM|          5|           27|         27|   N|                Y|\n",
            "|R230TLHU91M5Y3|B010X5715I|          4|           21|         21|   N|                Y|\n",
            "| RHR5MKO23K9TU|B00CMAG6BI|          5|           26|         30|   N|                Y|\n",
            "|R1HGK3TCY161D7|B011OLKB3O|          5|           52|         55|   N|                N|\n",
            "|R340QYAVNZZHJA|B005LURMSW|          4|           25|         25|   N|                N|\n",
            "|R2F1UVQK0JL4QH|B00AHSRM1A|          3|           20|         20|   N|                Y|\n",
            "|R1N21UY546VWMN|B00DZLVDAC|          2|           48|         50|   N|                Y|\n",
            "|R1E4L344EK0ZOT|B012BRMTHG|          5|           20|         26|   N|                N|\n",
            "|R282QUZDDJW3ON|B000NVBH8A|          4|           45|         49|   N|                Y|\n",
            "|R3H5T3T7QY3ZL2|B00Y846HN8|          5|          247|        263|   N|                Y|\n",
            "|R3W1A1P95IIGHX|B00Z8V5OV6|          5|           23|         25|   N|                N|\n",
            "+--------------+----------+-----------+-------------+-----------+----+-----------------+\n",
            "only showing top 20 rows\n",
            "\n"
          ],
          "name": "stdout"
        }
      ]
    },
    {
      "cell_type": "code",
      "metadata": {
        "colab": {
          "base_uri": "https://localhost:8080/"
        },
        "id": "6lSPvRFAP24G",
        "outputId": "d9f7b4c6-fb85-43ae-cc65-9395c93afc8d"
      },
      "source": [
        "#total number of Paid reviews\n",
        "print(\"Paid Reviews:%s\" % paid_reviews.count())\n",
        "\n",
        "#number of 5-star reviews\n",
        "print(\"5-star Paid Reviews:%s\" % paid_reviews.filter(\"star_rating==5\").count())\n",
        "\n",
        "#% of 5 star reviews\n",
        "print(\"Percent of 5-star Paid Reviews:%s\" % \"{:.2%}\".format(paid_reviews.filter(\"star_rating==5\").count()/paid_reviews.count()))"
      ],
      "execution_count": 9,
      "outputs": [
        {
          "output_type": "stream",
          "text": [
            "Paid Reviews:107\n",
            "5-star Paid Reviews:56\n",
            "Percent of 5-star Paid Reviews:52.34%\n"
          ],
          "name": "stdout"
        }
      ]
    },
    {
      "cell_type": "code",
      "metadata": {
        "colab": {
          "base_uri": "https://localhost:8080/"
        },
        "id": "lmc7IvVVQnk1",
        "outputId": "304dc2ed-7226-4b04-ea5d-c334cc9eb875"
      },
      "source": [
        "\n",
        "#total number of unpaid reviews\n",
        "print(\"Unpaid Reviews:%s\" % unpaid_reviews.count())\n",
        "\n",
        "#number of 5-star reviews\n",
        "print(\"5-star Unpaid Reviews:%s\" % unpaid_reviews.filter(\"star_rating==5\").count())\n",
        "\n",
        "#% of 5 star reviews\n",
        "print(\"Percent of 5-star Unpaid Reviews:%s\" % \"{:.2%}\".format(unpaid_reviews.filter(\"star_rating==5\").count()/unpaid_reviews.count()))"
      ],
      "execution_count": 10,
      "outputs": [
        {
          "output_type": "stream",
          "text": [
            "Unpaid Reviews:39869\n",
            "5-star Unpaid Reviews:21005\n",
            "Percent of 5-star Unpaid Reviews:52.69%\n"
          ],
          "name": "stdout"
        }
      ]
    }
  ]
}